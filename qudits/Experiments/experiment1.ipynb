{
 "cells": [
  {
   "cell_type": "code",
   "execution_count": 1,
   "id": "fa79e073",
   "metadata": {},
   "outputs": [],
   "source": [
    "import sys\n",
    "import os\n",
    "from pathlib import Path\n",
    "\n",
    "src_path = Path.home() / \"QuditEM\" / \"src\"\n",
    "\n",
    "src_path = src_path.resolve()\n",
    "if str(src_path) not in sys.path:\n",
    "    sys.path.append(str(src_path))\n",
    "\n"
   ]
  },
  {
   "cell_type": "code",
   "execution_count": 2,
   "id": "0d7e99f6",
   "metadata": {},
   "outputs": [
    {
     "name": "stdout",
     "output_type": "stream",
     "text": [
      "True\n"
     ]
    }
   ],
   "source": [
    "from qudit_ops.operators import *\n",
    "import cirq\n",
    "import numpy as np"
   ]
  },
  {
   "cell_type": "code",
   "execution_count": 3,
   "id": "129d4bf3",
   "metadata": {},
   "outputs": [],
   "source": [
    "%load_ext autoreload\n",
    "%autoreload 2"
   ]
  },
  {
   "cell_type": "code",
   "execution_count": 4,
   "id": "99ff916e",
   "metadata": {},
   "outputs": [],
   "source": [
    "gamma = np.exp(1j * 2 * np.pi / 4)\n",
    "# qudits = [cirq.LineQid(0, dimension=4)]\n",
    "\n",
    "# circuit = cirq.Circuit()\n",
    "# circuit.append(ModAdd(3,dim=4).on(qudits[0]))\n",
    "# #circuit.append(QuquartPlusSquaredGate().on(qudits[0]))\n",
    "\n",
    "# # circuit.append(ModAdd().on(qudits[0]))\n",
    "# #circuit.append(ZGate(1).on(qudits[0]))\n",
    "# # circuit.append(ZGate().on(qudits[0]))\n",
    "# # circuit.append(ZGate().on(qudits[0]))\n",
    "# # circuit.append(QuquartPlusCubedGate().on(qudits[0]))"
   ]
  },
  {
   "cell_type": "code",
   "execution_count": 5,
   "id": "4d970c16",
   "metadata": {},
   "outputs": [],
   "source": [
    "# qudits = [cirq.LineQid(0, dimension=4)]\n",
    "\n",
    "# circuit = cirq.Circuit()\n",
    "# # \n",
    "# # circuit.append(QuquartPlusGate().on(qudits[0]))\n",
    "# # circuit.append(M1().on(qudits[0]))\n",
    "# # circuit.append(ZGate(2).on(qudits[0]))\n",
    "# # circuit.append(M2().on(qudits[0]))\n",
    "# # circuit.append(ZGate().on(qudits[0]))\n",
    "# # circuit.append(ZGate().on(qudits[0]))\n",
    "# # circuit.append(QuquartPlusCubedGate().on(qudits[0]))\n",
    "# print(circuit)"
   ]
  },
  {
   "cell_type": "code",
   "execution_count": 6,
   "id": "d1e914f1",
   "metadata": {},
   "outputs": [],
   "source": [
    "# simulate = cirq.Simulator()\n",
    "# result = simulate.simulate(circuit)\n",
    "# print(\"Final vector state:\", result.final_state_vector)"
   ]
  },
  {
   "cell_type": "markdown",
   "id": "aa8f83f9",
   "metadata": {},
   "source": [
    "## Testing ModAdd gates on a ququart"
   ]
  },
  {
   "cell_type": "code",
   "execution_count": 7,
   "id": "93cbddab",
   "metadata": {},
   "outputs": [
    {
     "name": "stdout",
     "output_type": "stream",
     "text": [
      "0 (d=4): ───[++]───[++]───\n"
     ]
    }
   ],
   "source": [
    "qudit = cirq.LineQid(0,dimension = 4)\n",
    "circuit = cirq.Circuit()\n",
    "a = 2\n",
    "circuit.append(ModAdd(a,dim=4).on(qudit))\n",
    "circuit.append(ModAdd(a,dim=4).on(qudit))\n",
    "print(circuit)\n"
   ]
  },
  {
   "cell_type": "code",
   "execution_count": 8,
   "id": "802d130c",
   "metadata": {},
   "outputs": [
    {
     "name": "stdout",
     "output_type": "stream",
     "text": [
      "Final vector state (Expecting |0>): [1.+0.j 0.+0.j 0.+0.j 0.+0.j]\n"
     ]
    }
   ],
   "source": [
    "sim = cirq.Simulator()\n",
    "result = sim.simulate(circuit)\n",
    "print(f\"Final vector state (Expecting |{(2*a)%4}>): {result.final_state_vector}\")"
   ]
  },
  {
   "cell_type": "markdown",
   "id": "84db6064",
   "metadata": {},
   "source": [
    "## Testing Z Gate on ququart or qudit"
   ]
  },
  {
   "cell_type": "code",
   "execution_count": 9,
   "id": "40f24202",
   "metadata": {},
   "outputs": [
    {
     "name": "stdout",
     "output_type": "stream",
     "text": [
      "0 (d=4): ───[+]───Z───\n"
     ]
    }
   ],
   "source": [
    "qudit1 = cirq.LineQid(0, dimension=4)\n",
    "circ_z = cirq.Circuit()\n",
    "a = 1\n",
    "\n",
    "circ_z.append(ModAdd(a,dim = 4).on(qudit1))\n",
    "circ_z.append(ZGate(1,dim=4).on(qudit1))\n",
    "print(circ_z)\n"
   ]
  },
  {
   "cell_type": "code",
   "execution_count": 10,
   "id": "9981520e",
   "metadata": {},
   "outputs": [
    {
     "name": "stdout",
     "output_type": "stream",
     "text": [
      "Final vector state after Z gate (Expecting phase of (6.123233995736766e-17+1j)): [0.000000e+00+0.j 6.123234e-17+1.j 0.000000e+00+0.j 0.000000e+00+0.j]\n"
     ]
    }
   ],
   "source": [
    "result_z = sim.simulate(circ_z)\n",
    "print(f\"Final vector state after Z gate (Expecting phase of {gamma**a}): {result_z.final_state_vector}\")"
   ]
  },
  {
   "cell_type": "markdown",
   "id": "9079cbc2",
   "metadata": {},
   "source": [
    "## Test3: Flip Gates on ququarts/qudits"
   ]
  },
  {
   "cell_type": "code",
   "execution_count": 11,
   "id": "6a6cc526",
   "metadata": {},
   "outputs": [
    {
     "name": "stdout",
     "output_type": "stream",
     "text": [
      "0 (d=4): ───X(0,3)───\n"
     ]
    }
   ],
   "source": [
    "qubit = cirq.LineQid(0,dimension=4)\n",
    "circ_f = cirq.Circuit()\n",
    "ini = 0\n",
    "fin = 3\n",
    "circ_f.append(FlipGate(ini,fin,dim=4).on(qubit))\n",
    "print(circ_f)"
   ]
  },
  {
   "cell_type": "code",
   "execution_count": 12,
   "id": "78641315",
   "metadata": {},
   "outputs": [
    {
     "name": "stdout",
     "output_type": "stream",
     "text": [
      "Expected state vector (|3>): [0.+0.j 0.+0.j 0.+0.j 1.+0.j]\n"
     ]
    }
   ],
   "source": [
    "result_f = sim.simulate(circ_f)\n",
    "print(f\"Expected state vector (|{fin}>): {result_f.final_state_vector}\")"
   ]
  },
  {
   "cell_type": "markdown",
   "id": "94daf4ec",
   "metadata": {},
   "source": [
    "## Controlled gates on qudit/ququarts"
   ]
  },
  {
   "cell_type": "code",
   "execution_count": 13,
   "id": "af9f4de5",
   "metadata": {},
   "outputs": [
    {
     "name": "stdout",
     "output_type": "stream",
     "text": [
      "0 (d=4): ───[+++]───(3)────\n",
      "                    │\n",
      "1 (d=4): ───────────[++]───\n"
     ]
    }
   ],
   "source": [
    "\n",
    "qudits = cirq.LineQid.range(2,dimension=4)\n",
    "circ_c = cirq.Circuit()\n",
    "control = 3\n",
    "target = 0\n",
    "final = 2\n",
    "circ_c.append(ModAdd(control,dim=4).on(qudits[0]))\n",
    "circ_c.append(CModAdd(control,final,dim=4).on(qudits[0],qudits[1]))\n",
    "print(circ_c)"
   ]
  },
  {
   "cell_type": "code",
   "execution_count": 14,
   "id": "c5647424",
   "metadata": {},
   "outputs": [
    {
     "name": "stdout",
     "output_type": "stream",
     "text": [
      "Expected state vector |32>: [0.+0.j 0.+0.j 0.+0.j 0.+0.j 0.+0.j 0.+0.j 0.+0.j 0.+0.j 0.+0.j 0.+0.j\n",
      " 0.+0.j 0.+0.j 0.+0.j 0.+0.j 1.+0.j 0.+0.j]\n"
     ]
    }
   ],
   "source": [
    "result_c = sim.simulate(circ_c)\n",
    "print(f\"Expected state vector |{control}{final}>: {result_c.final_state_vector}\")"
   ]
  },
  {
   "cell_type": "markdown",
   "id": "47bd5571",
   "metadata": {},
   "source": [
    "## Generating maximally entangled state GHZ"
   ]
  },
  {
   "cell_type": "code",
   "execution_count": 15,
   "id": "fd58c714",
   "metadata": {
    "vscode": {
     "languageId": "ruby"
    }
   },
   "outputs": [
    {
     "name": "stdout",
     "output_type": "stream",
     "text": [
      "0 (d=4): ───C4───(1)───(2)────(3)─────\n",
      "                 │     │      │\n",
      "1 (d=4): ────────[+]───[++]───[+++]───\n"
     ]
    }
   ],
   "source": [
    "qudits = cirq.LineQid.range(2,dimension=4)\n",
    "circ = cirq.Circuit()\n",
    "# circ.append(ModAdd(2,dim = 4).on(qudits[0]))\n",
    "# circ.append(Christensen(dim = 4).on(qudits[0]))\n",
    "# circ.append(FlipGate(1,3,dim=4).on(qudits[0]))\n",
    "circ.append(Christensen(dim = 4).on(qudits[0]))\n",
    "circ.append(CModAdd(1,1,dim=4).on(qudits[0],qudits[1]))\n",
    "circ.append(CModAdd(2,2,dim=4).on(qudits[0],qudits[1]))\n",
    "circ.append(CModAdd(3,3,dim=4).on(qudits[0],qudits[1]))\n",
    "print(circ)"
   ]
  },
  {
   "cell_type": "code",
   "execution_count": 16,
   "id": "0eeb97c4",
   "metadata": {
    "vscode": {
     "languageId": "ruby"
    }
   },
   "outputs": [
    {
     "name": "stdout",
     "output_type": "stream",
     "text": [
      "[0.5+0.j 0. +0.j 0. +0.j 0. +0.j 0. +0.j 0.5+0.j 0. +0.j 0. +0.j 0. +0.j\n",
      " 0. +0.j 0.5+0.j 0. +0.j 0. +0.j 0. +0.j 0. +0.j 0.5+0.j]\n"
     ]
    }
   ],
   "source": [
    "\n",
    "result_ghz = sim.simulate(circ)\n",
    "print(result_ghz.final_state_vector)"
   ]
  },
  {
   "cell_type": "markdown",
   "id": "512f51cf",
   "metadata": {
    "vscode": {
     "languageId": "ruby"
    }
   },
   "source": [
    "## Testing generalized Hadamard operations on ququarts"
   ]
  },
  {
   "cell_type": "code",
   "execution_count": 17,
   "id": "d3062abd",
   "metadata": {
    "vscode": {
     "languageId": "ruby"
    }
   },
   "outputs": [
    {
     "name": "stdout",
     "output_type": "stream",
     "text": [
      "[ 5.0000000e-01+0.0000000e+00j -9.1848507e-17-5.0000000e-01j\n",
      " -5.0000000e-01+1.8369701e-16j  2.7554554e-16+5.0000000e-01j]\n"
     ]
    }
   ],
   "source": [
    "qid = cirq.LineQid(0,dimension=4)\n",
    "circuit = cirq.Circuit(\n",
    "    # Christensen(dim=4).on(qid),\n",
    "    ModAdd(3,dim=4).on(qid),\n",
    "    Christensen(dim=4).on(qid))\n",
    "print(sim.simulate(circuit).final_state_vector)"
   ]
  },
  {
   "cell_type": "markdown",
   "id": "f48a21cc",
   "metadata": {
    "vscode": {
     "languageId": "ruby"
    }
   },
   "source": [
    "## Testing PCS operation on identity payload circuit"
   ]
  },
  {
   "cell_type": "markdown",
   "id": "f68ab076",
   "metadata": {},
   "source": [
    "### Phase change (Z^1,Z^2,Z^3) errors"
   ]
  },
  {
   "cell_type": "code",
   "execution_count": 18,
   "id": "d1cd532e",
   "metadata": {},
   "outputs": [
    {
     "name": "stdout",
     "output_type": "stream",
     "text": [
      "0 (d=4): ────────[++]───[++]───Z───[++]───[++]────────────\n",
      "                 │      │          │      │\n",
      "1 (d=4): ───C4───(1)────(2)────────(2)────(1)────C4───M───\n"
     ]
    }
   ],
   "source": [
    "#Testing generalized christensen gate on ququarts\n",
    "qudits2 = cirq.LineQid.range(2,dimension=4)\n",
    "circuit_pcs = cirq.Circuit()\n",
    "moment = cirq.Moment()\n",
    "circuit_pcs.append(Christensen(dim=4).on(qudits2[1]))\n",
    "circuit_pcs.append(CModAdd(1,2,dim=4).on(qudits2[1],qudits2[0]))\n",
    "circuit_pcs.append(CModAdd(2,2,dim=4).on(qudits2[1],qudits2[0]))\n",
    "circuit_pcs.append(ZGate(1,dim=4).on(qudits2[0]))\n",
    "circuit_pcs.append(CModAdd(2,2,dim=4).on(qudits2[1],qudits2[0]))\n",
    "circuit_pcs.append(CModAdd(1,2,dim=4).on(qudits2[1],qudits2[0]))\n",
    "circuit_pcs.append(Christensen(dim=4).on(qudits2[1]))\n",
    "circuit_pcs.append(cirq.measure(qudits2[1]))\n",
    "print(circuit_pcs)"
   ]
  },
  {
   "cell_type": "code",
   "execution_count": 19,
   "id": "e707e689",
   "metadata": {},
   "outputs": [
    {
     "name": "stdout",
     "output_type": "stream",
     "text": [
      "q(1) (d=4)=3333333313331113133111133111311111113333111311111113331131133313313333331313331331131131111113311313\n"
     ]
    }
   ],
   "source": [
    "result = sim.run(circuit_pcs,repetitions = 100)\n",
    "print(result)"
   ]
  },
  {
   "cell_type": "code",
   "execution_count": 20,
   "id": "f85ec7c6",
   "metadata": {},
   "outputs": [
    {
     "name": "stdout",
     "output_type": "stream",
     "text": [
      "0 (d=4): ───────[++]───Z───[++]───────────\n",
      "                │          │\n",
      "1: ─────────H───@──────────@──────H───M───\n"
     ]
    }
   ],
   "source": [
    "qid_b = cirq.LineQid(0,dimension=4)\n",
    "qid_a = cirq.LineQubit(1)\n",
    "circuit1 = cirq.Circuit(\n",
    "    cirq.H(qid_a),\n",
    "    ModAdd(2,dim=4).on(qid_b).controlled_by(qid_a),\n",
    "    ZGate(1,dim=4).on(qid_b),\n",
    "    ModAdd(2,dim=4).on(qid_b).controlled_by(qid_a),\n",
    "    cirq.H(qid_a),\n",
    "    cirq.measure(qid_a)\n",
    ")\n",
    "print(circuit1)"
   ]
  },
  {
   "cell_type": "code",
   "execution_count": 21,
   "id": "28eec799",
   "metadata": {},
   "outputs": [
    {
     "name": "stdout",
     "output_type": "stream",
     "text": [
      "q(1)=1111111111111111111111111111111111111111111111111111111111111111111111111111111111111111111111111111\n"
     ]
    }
   ],
   "source": [
    "result = sim.run(circuit1,repetitions = 100)\n",
    "print(result)"
   ]
  },
  {
   "cell_type": "markdown",
   "id": "c40734d8",
   "metadata": {},
   "source": [
    "### Add errors"
   ]
  },
  {
   "cell_type": "code",
   "execution_count": 22,
   "id": "6abceab0",
   "metadata": {},
   "outputs": [
    {
     "name": "stdout",
     "output_type": "stream",
     "text": [
      "0 (d=4): ────────Z2────Z2────[+++]───Z2────Z2─────────────\n",
      "                 │     │             │     │\n",
      "1 (d=4): ───C4───(1)───(3)───────────(1)───(3)───C4───M───\n"
     ]
    }
   ],
   "source": [
    "qids = cirq.LineQid.range(2,dimension=4)\n",
    "circ_x = cirq.Circuit(\n",
    "    Christensen(dim=4).on(qids[1]),\n",
    "    CZGate(c=1,power=2,dim=4).on(qids[1],qids[0]),\n",
    "    CZGate(c=3,power=2,dim=4).on(qids[1],qids[0]),\n",
    "    ModAdd(3,dim=4).on(qids[0]),\n",
    "    CZGate(c=1,power=2,dim=4).on(qids[1],qids[0]),\n",
    "    CZGate(c=3,power=2,dim=4).on(qids[1],qids[0]),\n",
    "    Christensen(dim=4).on(qids[1]),\n",
    "    cirq.measure(qids[1])\n",
    ")\n",
    "print(circ_x)"
   ]
  },
  {
   "cell_type": "code",
   "execution_count": 23,
   "id": "562d7d60",
   "metadata": {},
   "outputs": [
    {
     "name": "stdout",
     "output_type": "stream",
     "text": [
      "q(1) (d=4)=2222222222222222222222222222222222222222222222222222222222222222222222222222222222222222222222222222\n"
     ]
    }
   ],
   "source": [
    "result = sim.run(circ_x,repetitions = 100)\n",
    "print(result)"
   ]
  },
  {
   "cell_type": "code",
   "execution_count": 24,
   "id": "a6dc41d3",
   "metadata": {},
   "outputs": [
    {
     "name": "stdout",
     "output_type": "stream",
     "text": [
      "0 (d=6): ───────Z───[+++]───Z───────────\n",
      "                │           │\n",
      "1: ─────────H───@───────────@───H───M───\n"
     ]
    }
   ],
   "source": [
    "qid_b = cirq.LineQid(0,dimension=6)\n",
    "qid_a = cirq.LineQubit(1)\n",
    "circuit2 = cirq.Circuit(\n",
    "    cirq.H(qid_a),\n",
    "    ZGate(1,dim=6).on(qid_b).controlled_by(qid_a),\n",
    "    ModAdd(3,dim=6).on(qid_b),\n",
    "    ZGate(1,dim=6).on(qid_b).controlled_by(qid_a),\n",
    "    cirq.H(qid_a),\n",
    "    cirq.measure(qid_a)\n",
    ")\n",
    "print(circuit2)"
   ]
  },
  {
   "cell_type": "code",
   "execution_count": 25,
   "id": "94a08be2",
   "metadata": {},
   "outputs": [
    {
     "name": "stdout",
     "output_type": "stream",
     "text": [
      "q(1)=1111111111\n"
     ]
    }
   ],
   "source": [
    "result = sim.run(circuit2,repetitions = 10)\n",
    "print(result)"
   ]
  },
  {
   "cell_type": "markdown",
   "id": "69aba309",
   "metadata": {},
   "source": [
    "### Dit flip errors"
   ]
  },
  {
   "cell_type": "markdown",
   "id": "f4d91e10",
   "metadata": {},
   "source": [
    "Could be treated as add errors"
   ]
  },
  {
   "cell_type": "markdown",
   "id": "162289c7",
   "metadata": {},
   "source": []
  }
 ],
 "metadata": {
  "kernelspec": {
   "display_name": "cirq-env",
   "language": "python",
   "name": "python3"
  },
  "language_info": {
   "codemirror_mode": {
    "name": "ipython",
    "version": 3
   },
   "file_extension": ".py",
   "mimetype": "text/x-python",
   "name": "python",
   "nbconvert_exporter": "python",
   "pygments_lexer": "ipython3",
   "version": "3.13.5"
  }
 },
 "nbformat": 4,
 "nbformat_minor": 5
}
