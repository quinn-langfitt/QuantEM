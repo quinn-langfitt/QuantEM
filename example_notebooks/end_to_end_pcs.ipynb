{
 "cells": [
  {
   "cell_type": "markdown",
   "metadata": {},
   "source": [
    "This notebook demonstrates an end to end example of compiling a circuit to its pauli-check variant, mapping to an IBM QPU, and executing it on a noisy simulator. "
   ]
  },
  {
   "cell_type": "code",
   "execution_count": 1,
   "metadata": {},
   "outputs": [],
   "source": [
    "import numpy as np\n",
    "\n",
    "from quantem.utils import (\n",
    "    convert_to_PCS_circ_largest_clifford,\n",
    "    get_VF2_layouts,\n",
    ")\n",
    "from quantem.pauli_checks import postselect_counts"
   ]
  },
  {
   "cell_type": "markdown",
   "metadata": {},
   "source": [
    "## Generate circuit"
   ]
  },
  {
   "cell_type": "code",
   "execution_count": 2,
   "metadata": {},
   "outputs": [],
   "source": [
    "from qiskit.circuit import QuantumCircuit\n",
    "\n",
    "\n",
    "def hydrogen_trial_circuit(num_qubits):\n",
    "    qc = QuantumCircuit(num_qubits)\n",
    "    # prepare the Hartree-Fock state\n",
    "    qc.x(0)\n",
    "    qc.x(1)\n",
    "\n",
    "    qc.rx(np.pi / 2, 0)\n",
    "    qc.h(1)\n",
    "    qc.h(2)\n",
    "    qc.h(3)\n",
    "\n",
    "    # qc.barrier()\n",
    "    qc.cx(0, 1)\n",
    "    qc.cx(1, 2)\n",
    "    qc.cx(2, 3)\n",
    "    # qc.barrier()\n",
    "\n",
    "    qc.rz(1.0, 3)\n",
    "\n",
    "    qc.cx(2, 3)\n",
    "    qc.cx(1, 2)\n",
    "    qc.cx(0, 1)\n",
    "\n",
    "    qc.rx(-np.pi / 2, 0)\n",
    "    qc.h(1)\n",
    "    qc.h(2)\n",
    "    qc.h(3)\n",
    "\n",
    "    return qc"
   ]
  },
  {
   "cell_type": "code",
   "execution_count": null,
   "metadata": {},
   "outputs": [],
   "source": [
    "circ = hydrogen_trial_circuit(4)\n",
    "circ.draw(\"mpl\", scale=0.6)"
   ]
  },
  {
   "cell_type": "markdown",
   "metadata": {},
   "source": [
    "## Apply checks to larget Clifford block"
   ]
  },
  {
   "cell_type": "code",
   "execution_count": null,
   "metadata": {},
   "outputs": [],
   "source": [
    "from qiskit_addon_utils.slicing import combine_slices, slice_by_depth\n",
    "\n",
    "slices = slice_by_depth(circ, 1)\n",
    "combined_slices = combine_slices(slices, include_barriers=True)\n",
    "combined_slices.draw(\"mpl\", scale=0.6)"
   ]
  },
  {
   "cell_type": "code",
   "execution_count": null,
   "metadata": {},
   "outputs": [],
   "source": [
    "num_qubits = 4\n",
    "num_checks = 2\n",
    "\n",
    "sign_list, pcs_circ = convert_to_PCS_circ_largest_clifford(circ, num_qubits, num_checks)"
   ]
  },
  {
   "cell_type": "code",
   "execution_count": null,
   "metadata": {},
   "outputs": [],
   "source": [
    "print(sign_list)\n",
    "pcs_circ.draw(\"mpl\", scale=0.6, fold=-1)"
   ]
  },
  {
   "cell_type": "markdown",
   "metadata": {},
   "source": [
    "## Select backend"
   ]
  },
  {
   "cell_type": "code",
   "execution_count": 7,
   "metadata": {},
   "outputs": [],
   "source": [
    "from qiskit_ibm_runtime.fake_provider import *\n",
    "\n",
    "fake_backend = FakeWashingtonV2()\n",
    "fake_coupling_map = fake_backend.configuration().coupling_map"
   ]
  },
  {
   "cell_type": "code",
   "execution_count": null,
   "metadata": {},
   "outputs": [],
   "source": [
    "from qiskit.visualization import plot_error_map\n",
    "\n",
    "plot_error_map(fake_backend)"
   ]
  },
  {
   "cell_type": "markdown",
   "metadata": {},
   "source": [
    "## Map to backend using VF2 algorithm "
   ]
  },
  {
   "cell_type": "code",
   "execution_count": null,
   "metadata": {},
   "outputs": [],
   "source": [
    "VF2_mapping_ranges, small_qc = get_VF2_layouts(circ, fake_backend)\n",
    "print(len(VF2_mapping_ranges))\n",
    "print(VF2_mapping_ranges)\n",
    "\n",
    "mapping_range = VF2_mapping_ranges[0]\n",
    "print(mapping_range)"
   ]
  },
  {
   "cell_type": "code",
   "execution_count": null,
   "metadata": {},
   "outputs": [],
   "source": [
    "pcs_VF2_mapping_ranges, pcs_small_qc = get_VF2_layouts(pcs_circ, fake_backend)\n",
    "print(len(pcs_VF2_mapping_ranges))\n",
    "print(pcs_VF2_mapping_ranges)\n",
    "\n",
    "pcs_mapping_range = pcs_VF2_mapping_ranges[0]\n",
    "print(pcs_mapping_range)"
   ]
  },
  {
   "cell_type": "markdown",
   "metadata": {},
   "source": [
    "## Execute on noisy simulator"
   ]
  },
  {
   "cell_type": "code",
   "execution_count": 11,
   "metadata": {},
   "outputs": [],
   "source": [
    "import qiskit_aer.noise as noise\n",
    "from qiskit_aer.primitives import SamplerV2 as sampler\n",
    "\n",
    "basis_gates = fake_backend.configuration().basis_gates\n",
    "noise_model = noise.NoiseModel.from_backend(fake_backend)\n",
    "\n",
    "noisy_sampler = sampler(options={\"backend_options\": {\"noise_model\": noise_model}})\n",
    "ideal_sampler = sampler()"
   ]
  },
  {
   "cell_type": "code",
   "execution_count": 12,
   "metadata": {},
   "outputs": [],
   "source": [
    "circ.measure_all()\n",
    "pcs_circ.measure_all()"
   ]
  },
  {
   "cell_type": "code",
   "execution_count": null,
   "metadata": {},
   "outputs": [],
   "source": [
    "pcs_circ.draw(\"mpl\", fold=-1)"
   ]
  },
  {
   "cell_type": "code",
   "execution_count": null,
   "metadata": {},
   "outputs": [],
   "source": [
    "circ.draw(\"mpl\", fold=-1)"
   ]
  },
  {
   "cell_type": "code",
   "execution_count": null,
   "metadata": {},
   "outputs": [],
   "source": [
    "from qiskit import transpile\n",
    "\n",
    "pcs_circ_transpiled = transpile(\n",
    "    pcs_circ,\n",
    "    basis_gates=basis_gates,\n",
    "    initial_layout=pcs_mapping_range,\n",
    "    optimization_level=1,\n",
    ")\n",
    "circ_transpiled = transpile(\n",
    "    circ, basis_gates=basis_gates, initial_layout=mapping_range, optimization_level=1\n",
    ")\n",
    "\n",
    "noisy_job_result = noisy_sampler.run(\n",
    "    [pcs_circ_transpiled, circ_transpiled], shots=10000\n",
    ").result()\n",
    "\n",
    "pcs_circ_counts = noisy_job_result[0].data.meas.get_counts()\n",
    "noisy_circ_counts = noisy_job_result[1].data.meas.get_counts()\n",
    "\n",
    "ideal_job_result = ideal_sampler.run([circ], shots=10000).result()\n",
    "ideal_circ_counts = ideal_job_result[0].data.meas.get_counts()\n",
    "postselected_counts = postselect_counts(pcs_circ_counts, sign_list, num_ancillas=2)\n",
    "\n",
    "print(pcs_circ_counts)\n",
    "print(postselected_counts)"
   ]
  },
  {
   "cell_type": "code",
   "execution_count": null,
   "metadata": {},
   "outputs": [],
   "source": [
    "from qiskit.quantum_info import hellinger_fidelity\n",
    "\n",
    "raw_fidelity = hellinger_fidelity(ideal_circ_counts, noisy_circ_counts)\n",
    "mitigated_fidelity = hellinger_fidelity(ideal_circ_counts, postselected_counts)\n",
    "postselection_rate = sum(postselected_counts.values()) / sum(pcs_circ_counts.values())\n",
    "\n",
    "print(f\"raw fidelity: {raw_fidelity}\")\n",
    "print(f\"mitigated fidelity: {mitigated_fidelity}\")\n",
    "print(f\"postselection rate: {postselection_rate}\")"
   ]
  },
  {
   "cell_type": "code",
   "execution_count": null,
   "metadata": {},
   "outputs": [],
   "source": []
  }
 ],
 "metadata": {
  "kernelspec": {
   "display_name": "quantem",
   "language": "python",
   "name": "python3"
  },
  "language_info": {
   "codemirror_mode": {
    "name": "ipython",
    "version": 3
   },
   "file_extension": ".py",
   "mimetype": "text/x-python",
   "name": "python",
   "nbconvert_exporter": "python",
   "pygments_lexer": "ipython3",
   "version": "3.10.18"
  }
 },
 "nbformat": 4,
 "nbformat_minor": 2
}
