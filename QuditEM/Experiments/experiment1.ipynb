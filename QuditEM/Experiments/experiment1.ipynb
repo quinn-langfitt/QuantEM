{
 "cells": [
  {
   "cell_type": "code",
   "execution_count": 3,
   "id": "fa79e073",
   "metadata": {},
   "outputs": [],
   "source": [
    "import sys\n",
    "import os\n",
    "from pathlib import Path\n",
    "\n",
    "src_path = Path.home() / \"QuditEM\" / \"src\"\n",
    "\n",
    "src_path = src_path.resolve()\n",
    "if str(src_path) not in sys.path:\n",
    "    sys.path.append(str(src_path))\n",
    "\n"
   ]
  },
  {
   "cell_type": "code",
   "execution_count": 32,
   "id": "0d7e99f6",
   "metadata": {},
   "outputs": [],
   "source": [
    "from qudit_ops.operators import *\n",
    "from qudit_ops.pcs import get_counts, plot_histogram\n",
    "import cirq\n",
    "import numpy as np"
   ]
  },
  {
   "cell_type": "code",
   "execution_count": 5,
   "id": "129d4bf3",
   "metadata": {},
   "outputs": [],
   "source": [
    "%load_ext autoreload\n",
    "%autoreload 2"
   ]
  },
  {
   "cell_type": "markdown",
   "id": "17b50113",
   "metadata": {},
   "source": [
    "## Commutation Relations between X and Z gates of arbitrary dimension"
   ]
  },
  {
   "cell_type": "code",
   "execution_count": 6,
   "id": "99ff916e",
   "metadata": {},
   "outputs": [
    {
     "name": "stdout",
     "output_type": "stream",
     "text": [
      "Z1_X2\n",
      "[[ 0.+0.j  0.+0.j  1.+0.j  0.+0.j]\n",
      " [ 0.+0.j  0.+0.j  0.+0.j  0.+1.j]\n",
      " [-1.+0.j  0.+0.j  0.+0.j  0.+0.j]\n",
      " [ 0.+0.j -0.-1.j  0.+0.j  0.+0.j]]\n",
      "X2_Z1\n",
      "[[ 0.+0.j  0.+0.j -1.+0.j  0.+0.j]\n",
      " [ 0.+0.j  0.+0.j  0.+0.j -0.-1.j]\n",
      " [ 1.+0.j  0.+0.j  0.+0.j  0.+0.j]\n",
      " [ 0.+0.j  0.+1.j  0.+0.j  0.+0.j]]\n",
      "\n",
      " Z1_X2 = (-1+0j)*X2_Z1\n"
     ]
    }
   ],
   "source": [
    "commutation_relation = ZXcomm_rel(z=1,x=2,dim=4)\n",
    "print(commutation_relation)"
   ]
  },
  {
   "cell_type": "markdown",
   "id": "aa8f83f9",
   "metadata": {},
   "source": [
    "## Testing ModAdd gates in arb dim"
   ]
  },
  {
   "cell_type": "code",
   "execution_count": null,
   "id": "95d6c518",
   "metadata": {},
   "outputs": [],
   "source": []
  },
  {
   "cell_type": "code",
   "execution_count": 11,
   "id": "93cbddab",
   "metadata": {},
   "outputs": [
    {
     "name": "stdout",
     "output_type": "stream",
     "text": [
      "0 (d=6): ───[+++++]───[+++++]───\n"
     ]
    }
   ],
   "source": [
    "mod_shift = 5\n",
    "dim = 6\n",
    "qudit = cirq.LineQid(0,dimension = dim)\n",
    "circuit = cirq.Circuit()\n",
    "\n",
    "circuit.append(ModAdd(mod_shift,dim=6).on(qudit))\n",
    "circuit.append(ModAdd(mod_shift,dim=6).on(qudit))\n",
    "print(circuit)\n"
   ]
  },
  {
   "cell_type": "code",
   "execution_count": 12,
   "id": "802d130c",
   "metadata": {},
   "outputs": [
    {
     "name": "stdout",
     "output_type": "stream",
     "text": [
      "Final vector state (Expecting |4>): [0.+0.j 0.+0.j 0.+0.j 0.+0.j 1.+0.j 0.+0.j]\n"
     ]
    }
   ],
   "source": [
    "sim = cirq.Simulator()\n",
    "result = sim.simulate(circuit)\n",
    "print(f\"Final vector state (Expecting |{(2*mod_shift)%dim}>): {result.final_state_vector}\")"
   ]
  },
  {
   "cell_type": "markdown",
   "id": "84db6064",
   "metadata": {},
   "source": [
    "## Testing Z Gate on ququart or qudit"
   ]
  },
  {
   "cell_type": "code",
   "execution_count": 13,
   "id": "40f24202",
   "metadata": {},
   "outputs": [
    {
     "name": "stdout",
     "output_type": "stream",
     "text": [
      "0 (d=4): ───[+]───Z───\n"
     ]
    }
   ],
   "source": [
    "qudit1 = cirq.LineQid(0, dimension=4)\n",
    "circ_z = cirq.Circuit()\n",
    "\n",
    "circ_z.append(ModAdd(1,dim=4).on(qudit1))\n",
    "circ_z.append(ZGate(1,dim=4).on(qudit1))\n",
    "print(circ_z)\n"
   ]
  },
  {
   "cell_type": "code",
   "execution_count": 14,
   "id": "9981520e",
   "metadata": {},
   "outputs": [
    {
     "name": "stdout",
     "output_type": "stream",
     "text": [
      "Final vector state after Z gate : [0.+0.j 0.+1.j 0.+0.j 0.+0.j]\n"
     ]
    }
   ],
   "source": [
    "result_z = sim.simulate(circ_z)\n",
    "print(f\"Final vector state after Z gate : {result_z.final_state_vector}\")"
   ]
  },
  {
   "cell_type": "markdown",
   "id": "9079cbc2",
   "metadata": {},
   "source": [
    "## Test3: Flip Gates on ququarts/qudits"
   ]
  },
  {
   "cell_type": "code",
   "execution_count": 15,
   "id": "6a6cc526",
   "metadata": {},
   "outputs": [
    {
     "name": "stdout",
     "output_type": "stream",
     "text": [
      "0 (d=4): ───X(0,3)───\n"
     ]
    }
   ],
   "source": [
    "qubit = cirq.LineQid(0,dimension=4)\n",
    "circ_f = cirq.Circuit()\n",
    "ini = 0\n",
    "fin = 3\n",
    "circ_f.append(FlipGate(ini,fin,dim=4).on(qubit))\n",
    "print(circ_f)"
   ]
  },
  {
   "cell_type": "code",
   "execution_count": 16,
   "id": "78641315",
   "metadata": {},
   "outputs": [
    {
     "name": "stdout",
     "output_type": "stream",
     "text": [
      "Expected state vector (|3>): [0.+0.j 0.+0.j 0.+0.j 1.+0.j]\n"
     ]
    }
   ],
   "source": [
    "result_f = sim.simulate(circ_f)\n",
    "print(f\"Expected state vector (|{fin}>): {result_f.final_state_vector}\")"
   ]
  },
  {
   "cell_type": "markdown",
   "id": "94daf4ec",
   "metadata": {},
   "source": [
    "## Controlled gates on qudit/ququarts"
   ]
  },
  {
   "cell_type": "code",
   "execution_count": 19,
   "id": "af9f4de5",
   "metadata": {},
   "outputs": [
    {
     "name": "stdout",
     "output_type": "stream",
     "text": [
      "0 (d=4): ───[+++]───(3)────\n",
      "                    │\n",
      "1 (d=4): ───────────[++]───\n"
     ]
    }
   ],
   "source": [
    "\n",
    "qudits = cirq.LineQid.range(2,dimension=4)\n",
    "circ_c = cirq.Circuit()\n",
    "control = 3\n",
    "target = 0\n",
    "final = 2\n",
    "circ_c.append(ModAdd(control,dim=4).on(qudits[0]))\n",
    "# circ_c.append(ModAdd(2,dim=4).on(qudits[1]))\n",
    "circ_c.append(CModAdd(control,final,dim=4).on(qudits[0],qudits[1]))\n",
    "print(circ_c)"
   ]
  },
  {
   "cell_type": "code",
   "execution_count": 20,
   "id": "c5647424",
   "metadata": {},
   "outputs": [
    {
     "name": "stdout",
     "output_type": "stream",
     "text": [
      "Expected state vector |32>: [0.+0.j 0.+0.j 0.+0.j 0.+0.j 0.+0.j 0.+0.j 0.+0.j 0.+0.j 0.+0.j 0.+0.j\n",
      " 0.+0.j 0.+0.j 0.+0.j 0.+0.j 1.+0.j 0.+0.j]\n"
     ]
    }
   ],
   "source": [
    "sim = cirq.Simulator()\n",
    "result_c = sim.simulate(circ_c)\n",
    "print(f\"Expected state vector |{control}{final}>: {result_c.final_state_vector}\")"
   ]
  },
  {
   "cell_type": "markdown",
   "id": "47bd5571",
   "metadata": {},
   "source": [
    "## Generating maximally entangled state GHZ"
   ]
  },
  {
   "cell_type": "code",
   "execution_count": 23,
   "id": "fd58c714",
   "metadata": {
    "vscode": {
     "languageId": "ruby"
    }
   },
   "outputs": [
    {
     "name": "stdout",
     "output_type": "stream",
     "text": [
      "0 (d=4): ───Cr───(1)───(2)────(3)─────M('a')───\n",
      "                 │     │      │       │\n",
      "1 (d=4): ────────[+]───[++]───[+++]───M────────\n"
     ]
    }
   ],
   "source": [
    "qudits = cirq.LineQid.range(2,dimension=4)\n",
    "circ = cirq.Circuit()\n",
    "# circ.append(ModAdd(2,dim = 4).on(qudits[0]))\n",
    "# circ.append(Christensen(dim = 4).on(qudits[0]))\n",
    "# circ.append(FlipGate(1,3,dim=4).on(qudits[0]))\n",
    "circ.append(Christensen(dim = 4).on(qudits[0]))\n",
    "circ.append(CModAdd(1,1,dim=4).on(qudits[0],qudits[1]))\n",
    "circ.append(CModAdd(2,2,dim=4).on(qudits[0],qudits[1]))\n",
    "circ.append(CModAdd(3,3,dim=4).on(qudits[0],qudits[1]))\n",
    "circ.append(cirq.measure(*qudits,key='a'))\n",
    "print(circ)"
   ]
  },
  {
   "cell_type": "code",
   "execution_count": 33,
   "id": "0eeb97c4",
   "metadata": {
    "vscode": {
     "languageId": "ruby"
    }
   },
   "outputs": [
    {
     "data": {
      "image/png": "[encoded data removed]",
      "text/plain": [
       "<Figure size 640x480 with 1 Axes>"
      ]
     },
     "metadata": {},
     "output_type": "display_data"
    }
   ],
   "source": [
    "\n",
    "sim = cirq.Simulator()\n",
    "result = sim.run(circ,repetitions=1024)\n",
    "counts = get_counts(result,key='a')\n",
    "plot_histogram(counts)\n"
   ]
  },
  {
   "cell_type": "markdown",
   "id": "512f51cf",
   "metadata": {
    "vscode": {
     "languageId": "ruby"
    }
   },
   "source": [
    "## Testing generalized Hadamard operations on ququarts"
   ]
  },
  {
   "cell_type": "code",
   "execution_count": 103,
   "id": "d3062abd",
   "metadata": {
    "vscode": {
     "languageId": "ruby"
    }
   },
   "outputs": [
    {
     "name": "stdout",
     "output_type": "stream",
     "text": [
      "[1.+0.j 1.+0.j 1.+0.j 1.-0.j 1.+0.j 1.+0.j]\n"
     ]
    }
   ],
   "source": [
    "dims = 6\n",
    "qid = cirq.LineQid(0,dimension=dims)\n",
    "circuit = cirq.Circuit(\n",
    "    # Christensen(dim=4).on(qid),\n",
    "    ModAdd(0,dims).on(qid),\n",
    "    Christensen(dim=dims).on(qid), ZGate(2,dims).on(qid), ZGate(4,dims).on(qid)\n",
    ")\n",
    "print((sim.simulate(circuit).final_state_vector)*(dims**0.5))"
   ]
  },
  {
   "cell_type": "markdown",
   "id": "f48a21cc",
   "metadata": {
    "vscode": {
     "languageId": "ruby"
    }
   },
   "source": [
    "## Testing PCS operation on identity payload circuit"
   ]
  },
  {
   "cell_type": "markdown",
   "id": "f68ab076",
   "metadata": {},
   "source": [
    "### Phase change (Z^1,Z^2,Z^3) errors"
   ]
  },
  {
   "cell_type": "code",
   "execution_count": 70,
   "id": "d1cd532e",
   "metadata": {},
   "outputs": [
    {
     "name": "stdout",
     "output_type": "stream",
     "text": [
      "0 (d=4): ────────[+]───[+++]───Z2───[+]───[+++]─────────────────\n",
      "                 │     │            │     │\n",
      "1 (d=4): ───Cr───(3)───(1)──────────(1)───(3)─────Cr───M('b')───\n"
     ]
    }
   ],
   "source": [
    "#Testing generalized christensen gate on ququarts\n",
    "qudits2 = cirq.LineQid.range(2,dimension=4)\n",
    "circuit_pcs = cirq.Circuit()\n",
    "moment = cirq.Moment()\n",
    "circuit_pcs.append(Christensen(dim=4).on(qudits2[1]))\n",
    "circuit_pcs.append(CModAdd(3,1,dim=4).on(qudits2[1],qudits2[0]))\n",
    "circuit_pcs.append(CModAdd(1,3,dim=4).on(qudits2[1],qudits2[0]))\n",
    "circuit_pcs.append(ZGate(2,dim=4).on(qudits2[0]))\n",
    "circuit_pcs.append(CModAdd(1,1,dim=4).on(qudits2[1],qudits2[0]))\n",
    "circuit_pcs.append(CModAdd(3,3,dim=4).on(qudits2[1],qudits2[0]))\n",
    "circuit_pcs.append(Christensen(dim=4).on(qudits2[1]))\n",
    "circuit_pcs.append(cirq.measure(qudits2[1],key='b'))\n",
    "print(circuit_pcs)"
   ]
  },
  {
   "cell_type": "code",
   "execution_count": 71,
   "id": "e707e689",
   "metadata": {},
   "outputs": [
    {
     "name": "stdout",
     "output_type": "stream",
     "text": [
      "{'2': 100}\n"
     ]
    }
   ],
   "source": [
    "result = sim.run(circuit_pcs,repetitions = 100)\n",
    "print(get_counts(result,key='b'))"
   ]
  },
  {
   "cell_type": "code",
   "execution_count": 37,
   "id": "f85ec7c6",
   "metadata": {},
   "outputs": [
    {
     "name": "stdout",
     "output_type": "stream",
     "text": [
      "0 (d=4): ───────[+++]───Z2───[+]────────────────\n",
      "                │            │\n",
      "1: ─────────H───@────────────@─────H───M('v')───\n"
     ]
    }
   ],
   "source": [
    "qid_b = cirq.LineQid(0,dimension=4)\n",
    "qid_a = cirq.LineQubit(1)\n",
    "circuit1 = cirq.Circuit(\n",
    "    cirq.H(qid_a),\n",
    "    ModAdd(3,dim=4).on(qid_b).controlled_by(qid_a),\n",
    "    ZGate(2,dim=4).on(qid_b),\n",
    "    ModAdd(1,dim=4).on(qid_b).controlled_by(qid_a),\n",
    "    cirq.H(qid_a),\n",
    "    cirq.measure(qid_a,key='v')\n",
    ")\n",
    "print(circuit1)"
   ]
  },
  {
   "cell_type": "code",
   "execution_count": 38,
   "id": "28eec799",
   "metadata": {},
   "outputs": [
    {
     "name": "stdout",
     "output_type": "stream",
     "text": [
      "{'1': 100}\n"
     ]
    }
   ],
   "source": [
    "result = sim.run(circuit1,repetitions = 100)\n",
    "print(get_counts(result,key='v'))"
   ]
  },
  {
   "cell_type": "markdown",
   "id": "c40734d8",
   "metadata": {},
   "source": [
    "### Add errors"
   ]
  },
  {
   "cell_type": "code",
   "execution_count": 65,
   "id": "6abceab0",
   "metadata": {},
   "outputs": [
    {
     "name": "stdout",
     "output_type": "stream",
     "text": [
      "0 (d=4): ────────Z2────Z2────[+++]───Z2────Z2─────────M('p')───\n",
      "                 │     │             │     │          │\n",
      "1 (d=4): ───Cr───(3)───(1)───────────(1)───(3)───Cr───M────────\n"
     ]
    }
   ],
   "source": [
    "qids = cirq.LineQid.range(2,dimension=4)\n",
    "circ_x = cirq.Circuit(\n",
    "    Christensen(dim=4).on(qids[1]),\n",
    "    CZGate(c=3,power=2,dim=4).on(qids[1],qids[0]),\n",
    "    CZGate(c=1,power=2,dim=4).on(qids[1],qids[0]),\n",
    "    ModAdd(3,dim=4).on(qids[0]),\n",
    "    CZGate(c=1,power=2,dim=4).on(qids[1],qids[0]),\n",
    "    CZGate(c=3,power=2,dim=4).on(qids[1],qids[0]),\n",
    "    Christensen(dim=4).on(qids[1]),\n",
    "    cirq.measure(qids,key='p')\n",
    ")\n",
    "print(circ_x)"
   ]
  },
  {
   "cell_type": "code",
   "execution_count": 66,
   "id": "562d7d60",
   "metadata": {},
   "outputs": [
    {
     "name": "stdout",
     "output_type": "stream",
     "text": [
      "{'32': 100}\n"
     ]
    }
   ],
   "source": [
    "result = sim.run(circ_x,repetitions = 100)\n",
    "print(get_counts(result,key='p'))"
   ]
  },
  {
   "cell_type": "code",
   "execution_count": 47,
   "id": "a6dc41d3",
   "metadata": {},
   "outputs": [
    {
     "name": "stdout",
     "output_type": "stream",
     "text": [
      "0 (d=3): ───────Z───[++]───Z────────────────\n",
      "                │          │\n",
      "1: ─────────H───@──────────@───H───M('c')───\n"
     ]
    }
   ],
   "source": [
    "qid_b = cirq.LineQid(0,dimension=3)\n",
    "qid_a = cirq.LineQubit(1)\n",
    "circuit2 = cirq.Circuit(\n",
    "    cirq.H(qid_a),\n",
    "    ZGate(1,dim=3).on(qid_b).controlled_by(qid_a),\n",
    "    ModAdd(2,dim=3).on(qid_b),\n",
    "    ZGate(1,dim=3).on(qid_b).controlled_by(qid_a),\n",
    "    cirq.H(qid_a),\n",
    "    cirq.measure(qid_a,key=\"c\")\n",
    ")\n",
    "print(circuit2)"
   ]
  },
  {
   "cell_type": "code",
   "execution_count": 50,
   "id": "94a08be2",
   "metadata": {},
   "outputs": [
    {
     "name": "stdout",
     "output_type": "stream",
     "text": [
      "{'1': 748, '0': 252}\n"
     ]
    }
   ],
   "source": [
    "result = sim.run(circuit2,repetitions = 1000)\n",
    "print(get_counts(result,key='c'))"
   ]
  },
  {
   "cell_type": "markdown",
   "id": "69aba309",
   "metadata": {},
   "source": [
    "### Applying pcs on error map using depolarizing channel in qutrits"
   ]
  },
  {
   "cell_type": "code",
   "execution_count": 62,
   "id": "162289c7",
   "metadata": {},
   "outputs": [
    {
     "name": "stdout",
     "output_type": "stream",
     "text": [
      "0 (d=3): ───Cr───(2)───(1)─────────(2)───(1)───Cr───M('k')───\n",
      "                 │     │           │     │          │\n",
      "1 (d=3): ────────Z─────Z2────[+]───Z─────Z2─────────M────────\n"
     ]
    }
   ],
   "source": [
    "qudits = cirq.LineQid.range(3,dimension=3)\n",
    "circ = cirq.Circuit()\n",
    "# circ.append(ModAdd(2,dim = 4).on(qudits[0]))\n",
    "circ.append(Christensen(dim = 3).on(qudits[0]))\n",
    "circ.append(CZGate(c=2,power=1,dim=3).on(qudits[0],qudits[1]))\n",
    "circ.append(CZGate(c=1,power=2,dim=3).on(qudits[0],qudits[1]))\n",
    "# circ.append(FlipGate(1,3,dim=4).on(qudits[0]))\n",
    "# circ.append(Christensen(dim = 3).on(qudits[2]))\n",
    "\n",
    "# # circ.append(CModAdd(1,1,dim=3).on(qudits[0],qudits[1]))\n",
    "# circ.append(CModAdd(1,2,dim=3).on(qudits[2],qudits[1]))\n",
    "# circ.append(CModAdd(2,1,dim=3).on(qudits[2],qudits[1]))\n",
    "circ.append(ModAdd(1,dim=3).on(qudits[1]))\n",
    "# circ.append(ZGate(1,dim=3).on(qudits[1]))\n",
    "# circ.append(QutritDepolarizingChannel(0.1).on(qudits[1]))\n",
    "\n",
    "# circ.append(CModAdd(1,1,dim=3).on(qudits[2],qudits[1]))\n",
    "# circ.append(CModAdd(2,2,dim=3).on(qudits[2],qudits[1]))\n",
    "# circ.append(Christensen(dim = 3).on(qudits[2]))\n",
    "circ.append(CZGate(c=2,power=1,dim=3).on(qudits[0],qudits[1]))\n",
    "circ.append(CZGate(c=1,power=2,dim=3).on(qudits[0],qudits[1]))\n",
    "circ.append(Christensen(dim=3).on(qudits[0]))\n",
    "# circ.append(CModAdd(2,2,dim=3).on(qudits[0],qudits[1]))\n",
    "\n",
    "circ.append(cirq.measure(qudits[:-1],key='k'))\n",
    "print(circ)"
   ]
  },
  {
   "cell_type": "code",
   "execution_count": 63,
   "id": "b31cc416",
   "metadata": {},
   "outputs": [
    {
     "name": "stdout",
     "output_type": "stream",
     "text": [
      "{'11': 1000}\n"
     ]
    }
   ],
   "source": [
    "sim = cirq.Simulator()\n",
    "result = cirq.DensityMatrixSimulator().run(circ, repetitions=1000)\n",
    "print(get_counts(result,key='k'))"
   ]
  },
  {
   "cell_type": "code",
   "execution_count": 73,
   "id": "ad6a1f97",
   "metadata": {},
   "outputs": [
    {
     "name": "stdout",
     "output_type": "stream",
     "text": [
      "0 (d=4): ───(3)─────(1)───M───\n",
      "            │       │\n",
      "1 (d=4): ───[+++]───[+]───────\n",
      "q(0) (d=4)=0000000000\n"
     ]
    }
   ],
   "source": [
    "qid = cirq.LineQid.range(2,dimension=4)\n",
    "circuit = cirq.Circuit(\n",
    "    # ModAdd(3,dim=4).on(qid[0]),\n",
    "    # Christensen(dim=4).on_each(*qid),\n",
    "    # ZGate(2,dim=4).on(qid[1]),\n",
    "    CModAdd(3,3,dim=4).on(qid[0],qid[1]),\n",
    "    # CModAdd(2,2,dim=4).on(qid[1],qid[0]),\n",
    "    CModAdd(1,1,dim=4).on(qid[0],qid[1]),\n",
    "    # Christensen(dim=4).on(qid[0])\n",
    ")\n",
    "circuit.append(cirq.measure(qid[0]))\n",
    "\n",
    "print(circuit)\n",
    "sim = cirq.Simulator()\n",
    "result = sim.run(circuit,repetitions=10)\n",
    "print(result)"
   ]
  },
  {
   "cell_type": "code",
   "execution_count": 74,
   "id": "bfcee447",
   "metadata": {},
   "outputs": [
    {
     "name": "stdout",
     "output_type": "stream",
     "text": [
      "q(0) (d=4)=0000000000\n"
     ]
    }
   ],
   "source": [
    "sim = cirq.Simulator()\n",
    "result = sim.run(circuit,repetitions=10)\n",
    "print(result)"
   ]
  }
 ],
 "metadata": {
  "kernelspec": {
   "display_name": "cirq-env",
   "language": "python",
   "name": "python3"
  },
  "language_info": {
   "codemirror_mode": {
    "name": "ipython",
    "version": 3
   },
   "file_extension": ".py",
   "mimetype": "text/x-python",
   "name": "python",
   "nbconvert_exporter": "python",
   "pygments_lexer": "ipython3",
   "version": "3.13.5"
  }
 },
 "nbformat": 4,
 "nbformat_minor": 5
}
