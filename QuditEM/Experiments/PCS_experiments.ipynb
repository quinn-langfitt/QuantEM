{
 "cells": [
  {
   "cell_type": "code",
   "execution_count": 1,
   "id": "02e69ec2",
   "metadata": {},
   "outputs": [],
   "source": [
    "import sys\n",
    "import os\n",
    "from pathlib import Path\n",
    "\n",
    "src_path = Path.home() / \"QuditEM\" / \"src\"\n",
    "\n",
    "src_path = src_path.resolve()\n",
    "if str(src_path) not in sys.path:\n",
    "    sys.path.append(str(src_path))"
   ]
  },
  {
   "cell_type": "code",
   "execution_count": 2,
   "id": "d73fff02",
   "metadata": {},
   "outputs": [],
   "source": [
    "from qudit_ops.operators import *\n",
    "from qudit_ops.pcs import get_counts,plot_histogram,postselection\n",
    "from qudit_ops.pcs import hellinger_fidelity\n",
    "import math\n",
    "import cirq\n",
    "import numpy as np\n",
    "import matplotlib.pyplot as plt"
   ]
  },
  {
   "cell_type": "code",
   "execution_count": 3,
   "id": "3c86762a",
   "metadata": {},
   "outputs": [],
   "source": [
    "%load_ext autoreload\n",
    "%autoreload 2"
   ]
  },
  {
   "cell_type": "markdown",
   "id": "30713115",
   "metadata": {},
   "source": [
    "# PCS in ququart space"
   ]
  },
  {
   "cell_type": "markdown",
   "id": "015a5ecf",
   "metadata": {},
   "source": [
    "## Test A: Detecting all X and Z errors in qutrit space (Success)"
   ]
  },
  {
   "cell_type": "code",
   "execution_count": 32,
   "id": "4b203301",
   "metadata": {},
   "outputs": [
    {
     "name": "stdout",
     "output_type": "stream",
     "text": [
      "0 (d=3): ────────Z─────Z2────[+]───[++]───[+]───Z───[+]───[++]───Z2────Z──────────M('a')───\n",
      "                 │     │     │     │                │     │      │     │          │\n",
      "1 (d=3): ───Cr───┼─────┼─────(2)───(1)──────────────(1)───(2)────┼─────┼─────Cr───M────────\n",
      "                 │     │                                         │     │          │\n",
      "2 (d=3): ───Cr───(1)───(2)───────────────────────────────────────(1)───(2)───Cr───M────────\n"
     ]
    }
   ],
   "source": [
    "qudits0 = cirq.LineQid.range(3, dimension=3)\n",
    "moment = cirq.Moment(Christensen(3).on_each(*qudits0[1:]))\n",
    "circuit_a = cirq.Circuit(\n",
    "    moment,\n",
    "    CZGate(1,1,3).on(qudits0[2],qudits0[0]),CZGate(2,2,3).on(qudits0[2],qudits0[0]),\n",
    "    CModAdd(2,1,3).on(*qudits0[-2::-1]),CModAdd(1,2,3).on(*qudits0[-2::-1]), \n",
    "    ModAdd(1,3).on(qudits0[0]),\n",
    "    ZGate(1,3).on(qudits0[0]),\n",
    "    #QuditDepolarizingChannel(0.12,3)(qudits0[0]),\n",
    "    CModAdd(1,1,3).on(*qudits0[-2::-1]), CModAdd(2,2,3).on(*qudits0[-2::-1]),\n",
    "    CZGate(1,2,3).on(qudits0[2],qudits0[0]),CZGate(2,1,3).on(qudits0[2],qudits0[0]),\n",
    "    moment,cirq.measure(*qudits0,key=\"a\")\n",
    ")\n",
    "print(circuit_a)"
   ]
  },
  {
   "cell_type": "code",
   "execution_count": 33,
   "id": "8e30a260",
   "metadata": {},
   "outputs": [
    {
     "name": "stdout",
     "output_type": "stream",
     "text": [
      "a=11111111111111111111111111111111111111111111111111, 11111111111111111111111111111111111111111111111111, 11111111111111111111111111111111111111111111111111\n"
     ]
    }
   ],
   "source": [
    "sim = cirq.Simulator()\n",
    "print(sim.run(circuit_a,repetitions=50))"
   ]
  },
  {
   "cell_type": "markdown",
   "id": "e308dc86",
   "metadata": {},
   "source": [
    "## Test B: Detecting all X and Z errors in ququart space EDIT: Success"
   ]
  },
  {
   "cell_type": "code",
   "execution_count": 29,
   "id": "b1efc9c0",
   "metadata": {},
   "outputs": [
    {
     "name": "stdout",
     "output_type": "stream",
     "text": [
      "0 (d=4): ────────Z─────Z2────Z3────[+++]───[++]───[+]───Z───[+++]───[+]───[++]───[+++]───Z3────Z2────Z──────────M('Output')───\n",
      "                 │     │     │     │       │      │                 │     │      │       │     │     │          │\n",
      "1 (d=4): ───Cr───┼─────┼─────┼─────(1)─────(2)────(3)───────────────(1)───(2)────(3)─────┼─────┼─────┼─────Cr───M─────────────\n",
      "                 │     │     │                                                           │     │     │          │\n",
      "2 (d=4): ───Cr───(1)───(2)───(3)─────────────────────────────────────────────────────────(1)───(2)───(3)───Cr───M─────────────\n"
     ]
    }
   ],
   "source": [
    "qudits1 = cirq.LineQid.range(4,dimension=4)\n",
    "c_moment = cirq.Moment(Christensen(4).on_each(qudits1[1],qudits1[2]))\n",
    "# left_check = cirq.Moment()\n",
    "# right_check = cirq.Moment(cirq.Moment(CZGate(1,1,4).on(qudits1[0]),CZGate(2,2,4).on(qudits1[0]),CZGate(3,3,4).on(qudits1[0])))\n",
    "error_moment = (cirq.Moment(QuditDepolarizingChannel(0.3,4)(qudits1[0])))\n",
    "circuit_b = cirq.Circuit(\n",
    "    c_moment, \n",
    "    \n",
    "    CZGate(1,1,4).on(qudits1[2],qudits1[0]),CZGate(2,2,4).on(qudits1[2],qudits1[0]),CZGate(3,3,4).on(qudits1[2],qudits1[0]), \n",
    "    CModAdd(1,3,4).on(qudits1[1],qudits1[0]),CModAdd(2,2,4).on(qudits1[1],qudits1[0]),CModAdd(3,1,4).on(qudits1[1],qudits1[0]),\n",
    "    ZGate(1,4).on(qudits1[0]), ModAdd(3,4).on(qudits1[0]),\n",
    "    CModAdd(1,1,4).on(qudits1[1],qudits1[0]), CModAdd(2,2,4).on(qudits1[1],qudits1[0]),CModAdd(3,3,4).on(qudits1[1],qudits1[0]), \n",
    "    \n",
    "    CZGate(1,3,4).on(qudits1[2],qudits1[0]),CZGate(2,2,4).on(qudits1[2],qudits1[0]),CZGate(3,1,4).on(qudits1[2],qudits1[0]), \n",
    "    c_moment, cirq.measure(*qudits1[:-1],key='Output')\n",
    "    )\n",
    "print(circuit_b)"
   ]
  },
  {
   "cell_type": "code",
   "execution_count": 31,
   "id": "4b3808eb",
   "metadata": {},
   "outputs": [
    {
     "name": "stdout",
     "output_type": "stream",
     "text": [
      "{'313': 1000}\n",
      "Note: X checks detect Zi errors on qudit 1 and Z checks detect Xi errors on qudit 2\n"
     ]
    }
   ],
   "source": [
    "sim = cirq.Simulator()\n",
    "\n",
    "result = sim.run(circuit_b,repetitions=1000)\n",
    "r = get_counts(result,\"Output\")\n",
    "print(r)\n",
    "print(\"Note: X checks detect Zi errors on qudit 1 and Z checks detect Xi errors on qudit 2\")   \n",
    "\n"
   ]
  },
  {
   "cell_type": "markdown",
   "id": "537e0d6c",
   "metadata": {},
   "source": [
    "The number of checks to apply to detect X_i or Z_i errors within a dimension of qudit space is proportional to the number of X_i/Z_i sets within the dimension.\n",
    "\n",
    "Thus, n pair of checks required to catch all X_i or Z_i type errors where n is the number of sets of X_i or Z_i in a given dimension."
   ]
  },
  {
   "cell_type": "code",
   "execution_count": null,
   "id": "4878b161",
   "metadata": {},
   "outputs": [],
   "source": []
  },
  {
   "cell_type": "code",
   "execution_count": 25,
   "id": "c029be14",
   "metadata": {},
   "outputs": [
    {
     "name": "stdout",
     "output_type": "stream",
     "text": [
      "            ┌───────┐                                                        ┌─────┐\n",
      "0 (d=4): ──────[+++]────[++]───[+]───Z─────Z2────D4(0.3)───Z3────Z2────Z──────[+]──────[++]───M───\n",
      "               │        │      │     │     │               │     │     │      │        │      │\n",
      "1 (d=4): ────Cr┼────────┼──────┼─────(1)───(2)─────────────(1)───(2)───(3)────┼──Cr────┼──────M───\n",
      "               │        │      │                                              │        │\n",
      "2 (d=4): ──────(1)──────(2)────(3)────────────────────────────────────────────(1)──────(2)────────\n",
      "            └───────┘                                                        └─────┘\n"
     ]
    }
   ],
   "source": [
    "dims = 4\n",
    "qid = cirq.LineQid.range(3,dimension=dims)\n",
    "circuit = cirq.Circuit(\n",
    "    Christensen(dim=dims).on(qid[1]), \n",
    "    # Christensen(dim=dims).on(qids[2])\n",
    ")\n",
    "opz = lambda : [circuit.append(CZGate(i,dims-i,dims).on(qid[1],qid[0])) for i in range(1,dims)]\n",
    "poz = lambda : [circuit.append(CZGate(i,i,dims).on(qid[1],qid[0])) for i in range(1,dims-1)]\n",
    "opx1 = lambda : [circuit.append(CModAdd(i,dims-i,dims).on(qid[2],qid[0])) for i in range(1,dims)]\n",
    "opx2 = lambda : [circuit.append(CModAdd(i,i,dims).on(qid[2],qid[0])) for i in range(1,dims-1)]\n",
    "opx1()\n",
    "poz()\n",
    "circuit.append(QuditDepolarizingChannel(0.3,dims)(qid[0]))\n",
    "# circuit.append(ModAdd(3,dims).on(qid[0]))\n",
    "# circuit.append(ZGate(1,dims).on(qid[0]))\n",
    "\n",
    "opz()\n",
    "opx2()\n",
    "\n",
    "# circuit.append(Christensen(dim=dims).on(qids[2]))\n",
    "circuit.append(Christensen(dim=dims).on(qid[1]))\n",
    "circuit.append(cirq.measure(qid[0],qid[1]))\n",
    "print(circuit)"
   ]
  },
  {
   "cell_type": "code",
   "execution_count": 26,
   "id": "81b98c1e",
   "metadata": {},
   "outputs": [
    {
     "name": "stdout",
     "output_type": "stream",
     "text": [
      "q(0) (d=4),q(1) (d=4)=0003002200, 0003002200\n"
     ]
    }
   ],
   "source": [
    "sim = cirq.Simulator()\n",
    "result = sim.run(circuit,repetitions=10)\n",
    "print(result)"
   ]
  },
  {
   "cell_type": "code",
   "execution_count": 28,
   "id": "e99098f1",
   "metadata": {},
   "outputs": [
    {
     "name": "stdout",
     "output_type": "stream",
     "text": [
      "0 (d=8): ────────Z4────Z4────Z4────Z4────[+++]───Z4────Z4────Z4────Z4─────────M───\n",
      "                 │     │     │     │             │     │     │     │          │\n",
      "1 (d=8): ───Cr───(1)───(2)───(3)───(5)───────────(1)───(2)───(3)───(5)───Cr───M───\n"
     ]
    }
   ],
   "source": [
    "q = cirq.LineQid.range(2,dimension=8)\n",
    "c = cirq.Circuit(\n",
    "    Christensen(dim=8).on(q[1]),\n",
    "    CZGate(1,4,8).on(q[1],q[0]), CZGate(2,4,8).on(q[1],q[0]),CZGate(3,4,8).on(q[1],q[0]),\n",
    "    CZGate(5,4,8).on(q[1],q[0]), ModAdd(3,8).on(q[0]),\n",
    "    CZGate(1,4,8).on(q[1],q[0]), CZGate(2,4,8).on(q[1],q[0]), CZGate(3,4,8).on(q[1],q[0]),\n",
    "    CZGate(5,4,8).on(q[1],q[0]),\n",
    "    Christensen(dim=8).on(q[1]),\n",
    "    cirq.measure(*q)\n",
    ")\n",
    "print(c)"
   ]
  },
  {
   "cell_type": "code",
   "execution_count": 29,
   "id": "f11a360e",
   "metadata": {},
   "outputs": [
    {
     "name": "stdout",
     "output_type": "stream",
     "text": [
      "q(0) (d=8),q(1) (d=8)=3333333333, 7414447467\n"
     ]
    }
   ],
   "source": [
    "sim = cirq.Simulator()\n",
    "result = sim.run(c,repetitions=10)\n",
    "print(result)"
   ]
  },
  {
   "cell_type": "markdown",
   "id": "f2492ae5",
   "metadata": {},
   "source": [
    "## Comparing fidelities of noisy vs PCS circuits"
   ]
  },
  {
   "cell_type": "code",
   "execution_count": 30,
   "id": "12a80ca8",
   "metadata": {},
   "outputs": [
    {
     "name": "stdout",
     "output_type": "stream",
     "text": [
      "0 (d=4): ───[+++]───D4(0.12)───M('Output')───\n",
      "{'3': 920, '1': 32, '0': 32, '2': 40}\n"
     ]
    },
    {
     "data": {
      "image/png": "[encoded data removed]",
      "text/plain": [
       "<Figure size 640x480 with 1 Axes>"
      ]
     },
     "metadata": {},
     "output_type": "display_data"
    }
   ],
   "source": [
    "q = cirq.LineQid(0,dimension=4)\n",
    "circ = cirq.Circuit(ModAdd(3,4).on(q),QuditDepolarizingChannel(0.12,4)(q))\n",
    "circ.append(cirq.measure(q,key='Output'))\n",
    "print(circ)\n",
    "measured_noisy_circ = cirq.Simulator().run(circ,repetitions=1024)\n",
    "result_noisy_circ = get_counts(measured_noisy_circ,key='Output')\n",
    "print(result_noisy_circ)\n",
    "plot_histogram(result_noisy_circ)"
   ]
  },
  {
   "cell_type": "code",
   "execution_count": 40,
   "id": "0094c38e",
   "metadata": {},
   "outputs": [
    {
     "name": "stdout",
     "output_type": "stream",
     "text": [
      "0 (d=4): ────────[+++]───[++]───[+]───[+++]───[+]───[++]───[+++]────────M('k')───\n",
      "                 │       │      │             │     │      │            │\n",
      "1 (d=4): ───Cr───(1)─────(2)────(3)───────────(1)───(2)────(3)─────Cr───M────────\n"
     ]
    }
   ],
   "source": [
    "qudits2 = cirq.LineQid.range(4,dimension=4)\n",
    "c_moment = cirq.Moment(Christensen(4).on(qudits2[1]))\n",
    "# left_check = cirq.Moment()\n",
    "# right_check = cirq.Moment(cirq.Moment(CZGate(1,1,4).on(qudits1[0]),CZGate(2,2,4).on(qudits1[0]),CZGate(3,3,4).on(qudits1[0])))\n",
    "moment = (cirq.Moment(ModAdd(3,4).on(qudits2[0]))\n",
    "                    )\n",
    "circuit_pcs = cirq.Circuit(\n",
    "    c_moment, \n",
    "    # Christensen(4).on(qudits2[2]),\n",
    "    # CZGate(1,3,4).on(qudits2[2],qudits2[0]),CZGate(2,2,4).on(qudits2[2],qudits2[0]),CZGate(3,1,4).on(qudits2[2],qudits2[0]), moment,\n",
    "    CModAdd(1,3,4).on(qudits2[1],qudits2[0]),CModAdd(2,2,4).on(qudits2[1],qudits2[0]),CModAdd(3,1,4).on(qudits2[1],qudits2[0]),moment,\n",
    "    #   ZGate(2,4).on(qudits2[0]),\n",
    "    CModAdd(1,1,4).on(qudits2[1],qudits2[0]),CModAdd(2,2,4).on(qudits2[1],qudits2[0]),CModAdd(3,3,4).on(qudits2[1],qudits2[0]), \n",
    "    # CZGate(1,3,4).on(qudits2[2],qudits2[0]),CZGate(2,2,4).on(qudits2[2],qudits2[0]),CZGate(3,1,4).on(qudits2[2],qudits2[0]), Christensen(4).on(qudits2[2]),\n",
    "    c_moment, cirq.measure([*qudits2[:-2]],key='k')\n",
    ")\n",
    "print(circuit_pcs)\n",
    "\n",
    "meas_pcs_sim = cirq.Simulator().run(circuit_pcs,repetitions=10)\n",
    "ideal_pcs_res = get_counts(meas_pcs_sim,key='k')\n"
   ]
  },
  {
   "cell_type": "code",
   "execution_count": 41,
   "id": "3aa3d263",
   "metadata": {},
   "outputs": [
    {
     "name": "stdout",
     "output_type": "stream",
     "text": [
      "k=3333333333, 0000000000\n"
     ]
    }
   ],
   "source": [
    "print(meas_pcs_sim)"
   ]
  },
  {
   "cell_type": "code",
   "execution_count": 42,
   "id": "ff703c17",
   "metadata": {},
   "outputs": [
    {
     "name": "stdout",
     "output_type": "stream",
     "text": [
      "0 (d=4): ────────[+++]───[++]───[+]───[+++]───D4(0.12)───[+]───[++]───[+++]────────M('a')───\n",
      "                 │       │      │                        │     │      │            │\n",
      "1 (d=4): ───Cr───(1)─────(2)────(3)──────────────────────(1)───(2)────(3)─────Cr───M────────\n"
     ]
    }
   ],
   "source": [
    "qudits2 = cirq.LineQid.range(4,dimension=4)\n",
    "c_moment = cirq.Moment(Christensen(4).on(qudits2[1]))\n",
    "# left_check = cirq.Moment()\n",
    "# right_check = cirq.Moment(cirq.Moment(CZGate(1,1,4).on(qudits1[0]),CZGate(2,2,4).on(qudits1[0]),CZGate(3,3,4).on(qudits1[0])))\n",
    "error_moment = (cirq.Moment(ModAdd(3,4).on(qudits2[0])),\n",
    "                QuditDepolarizingChannel(0.12,4)(qudits2[0])\n",
    "                    )\n",
    "circuit_c = cirq.Circuit(\n",
    "    c_moment, \n",
    "    # Christensen(4).on(qudits2[2]),\n",
    "    # CZGate(1,3,4).on(qudits2[2],qudits2[0]),CZGate(2,2,4).on(qudits2[2],qudits2[0]),CZGate(3,1,4).on(qudits2[2],qudits2[0]),\n",
    "    CModAdd(1,3,4).on(qudits2[1],qudits2[0]),CModAdd(2,2,4).on(qudits2[1],qudits2[0]),CModAdd(3,1,4).on(qudits2[1],qudits2[0]), error_moment,\n",
    "    #   ZGate(2,4).on(qudits2[0]),\n",
    "    CModAdd(1,1,4).on(qudits2[1],qudits2[0]),CModAdd(2,2,4).on(qudits2[1],qudits2[0]),CModAdd(3,3,4).on(qudits2[1],qudits2[0]), \n",
    "    # CZGate(1,3,4).on(qudits2[2],qudits2[0]),CZGate(2,2,4).on(qudits2[2],qudits2[0]),CZGate(3,1,4).on(qudits2[2],qudits2[0]), Christensen(4).on(qudits2[2]),\n",
    "    c_moment, cirq.measure([*qudits2[:-2]],key='a')\n",
    ")\n",
    "print(circuit_c)"
   ]
  },
  {
   "cell_type": "code",
   "execution_count": 45,
   "id": "fbaa9039",
   "metadata": {},
   "outputs": [
    {
     "name": "stdout",
     "output_type": "stream",
     "text": [
      "{'20': 12, '30': 885, '12': 9, '22': 8, '33': 6, '11': 9, '10': 7, '31': 18, '23': 14, '03': 10, '13': 3, '32': 6, '02': 11, '00': 13, '21': 8, '01': 5}\n"
     ]
    },
    {
     "data": {
      "image/png": "[encoded data removed]",
      "text/plain": [
       "<Figure size 640x480 with 1 Axes>"
      ]
     },
     "metadata": {},
     "output_type": "display_data"
    },
    {
     "data": {
      "image/png": "[encoded data removed]",
      "text/plain": [
       "<Figure size 640x480 with 1 Axes>"
      ]
     },
     "metadata": {},
     "output_type": "display_data"
    }
   ],
   "source": [
    "\n",
    "sim = cirq.Simulator()\n",
    "samples = sim.run(circuit_c,repetitions=1024)\n",
    "counts = get_counts(samples,key='a')\n",
    "print(counts)\n",
    "plot_histogram(counts)\n",
    "\n",
    "#Performing post-selection based on syndrome outcomes\n",
    "from qudit_ops.pcs import postselection\n",
    "post_selected_counts = postselection(counts,ancillas=1)\n",
    "plot_histogram(post_selected_counts)"
   ]
  },
  {
   "cell_type": "code",
   "execution_count": 46,
   "id": "4860db17",
   "metadata": {},
   "outputs": [
    {
     "name": "stdout",
     "output_type": "stream",
     "text": [
      "0 (d=4): ───[+++]───M('Output')───\n",
      "Unmitigated Fidelity: 0.8984375\n",
      "Mitigated Fidelity: 0.965103598691385\n"
     ]
    }
   ],
   "source": [
    "qid = cirq.LineQid(0,dimension=4)\n",
    "ideal_circuit = cirq.Circuit(ModAdd(3,4).on(qid),cirq.measure(qid,key='Output'))\n",
    "print(ideal_circuit)\n",
    "meas_sim = cirq.Simulator().run(ideal_circuit,repetitions=1024)\n",
    "ideal_res = get_counts(meas_sim,key='Output')\n",
    "\n",
    "#noisy fidelity\n",
    "unmitigated_fid = hellinger_fidelity(ideal_res,result_noisy_circ)\n",
    "mitigated_fid = hellinger_fidelity(ideal_pcs_res,post_selected_counts)\n",
    "print(\"Unmitigated Fidelity:\", unmitigated_fid)\n",
    "print(\"Mitigated Fidelity:\", mitigated_fid)"
   ]
  },
  {
   "cell_type": "code",
   "execution_count": 47,
   "id": "e60ff03f",
   "metadata": {},
   "outputs": [
    {
     "name": "stdout",
     "output_type": "stream",
     "text": [
      "                 ┌──────┐                    ┌──────┐\n",
      "0 (d=2): ───Cr────Z─────────D2(0.12)───(1)───────Z───────────M('a')───\n",
      "                  │                    │         │           │\n",
      "1 (d=2): ─────────┼──[+]────D2(0.12)───[+]────[+]┼───────────M────────\n",
      "                  │  │                        │  │           │\n",
      "2 (d=2): ───Cr────(1)┼────────────────────────┼──(1)────Cr───M────────\n",
      "                     │                        │              │\n",
      "3 (d=2): ───Cr───────(1)──────────────────────(1)───────Cr───M────────\n",
      "                 └──────┘                    └──────┘\n"
     ]
    }
   ],
   "source": [
    "def ghz(dims: int,n_qudits: int = 2) -> cirq.Circuit:\n",
    "    total_qids = n_qudits + 2\n",
    "    qids = cirq.LineQid.range(total_qids, dimension=dims)\n",
    "\n",
    "    z_rcheck = lambda : [circuit.append(CZGate(i,dims-i,dims).on(qids[2],qids[0])) for i in range(1,dims)]\n",
    "    z_lcheck = lambda : [circuit.append(CZGate(i,i,dims).on(qids[2],qids[0])) for i in range(1,dims)]\n",
    "    x_lcheck = lambda : [circuit.append(CModAdd(i,dims-i,dims).on(qids[3],qids[1])) for i in range(1,dims)]\n",
    "    x_rcheck = lambda : [circuit.append(CModAdd(i,i,dims).on(qids[3],qids[1])) for i in range(1,dims)]\n",
    "    error_moment = cirq.Moment(QuditDepolarizingChannel(0.12,dims).on_each(qids[0],qids[1]))\n",
    "    circuit = cirq.Circuit()\n",
    "    circuit.append(Christensen(dim=dims).on_each(qids[0],qids[2]))\n",
    "    z_lcheck()\n",
    "    circuit.append(Christensen(dim=dims).on(qids[3]))\n",
    "    x_lcheck()\n",
    "    circuit.append(error_moment)\n",
    "    for k in range(dims-1):\n",
    "        circuit.append(CModAdd(k+1,k+1,dims).on(qids[0],qids[1]))\n",
    "    x_rcheck()\n",
    "    z_rcheck()\n",
    "    circuit.append(Christensen(dim=dims).on(qids[3]))\n",
    "    circuit.append(Christensen(dim=dims).on(qids[2]))\n",
    "    \n",
    "    circuit.append(cirq.measure(*qids,key='a'))\n",
    "    return circuit\n",
    "pcs_noisy_ghz = ghz(2,2)\n",
    "print(pcs_noisy_ghz)\n",
    "    "
   ]
  },
  {
   "cell_type": "code",
   "execution_count": 48,
   "id": "62d5ac72",
   "metadata": {},
   "outputs": [
    {
     "data": {
      "image/png": "[encoded data removed]",
      "text/plain": [
       "<Figure size 640x480 with 1 Axes>"
      ]
     },
     "metadata": {},
     "output_type": "display_data"
    }
   ],
   "source": [
    "sim = cirq.Simulator()\n",
    "result = sim.run(pcs_noisy_ghz,repetitions=1000)\n",
    "pcs_noisy_ghz_counts = get_counts(result,key='a')\n",
    "plot_histogram(pcs_noisy_ghz_counts)"
   ]
  },
  {
   "cell_type": "code",
   "execution_count": 49,
   "id": "a1213aff",
   "metadata": {},
   "outputs": [
    {
     "data": {
      "image/png": "[encoded data removed]",
      "text/plain": [
       "<Figure size 640x480 with 1 Axes>"
      ]
     },
     "metadata": {},
     "output_type": "display_data"
    }
   ],
   "source": [
    "post_selected_pcs = postselection(pcs_noisy_ghz_counts,ancillas=2)\n",
    "plot_histogram(post_selected_pcs)"
   ]
  },
  {
   "cell_type": "code",
   "execution_count": 50,
   "id": "3f51c2dc",
   "metadata": {},
   "outputs": [],
   "source": [
    "def ideal_ghz(dims: int,n_qudits: int = 2) -> cirq.Circuit:\n",
    "    qids = cirq.LineQid.range(n_qudits, dimension=dims)\n",
    "    circuit = cirq.Circuit()\n",
    "    circuit.append(Christensen(dim=dims).on(qids[0]))\n",
    "    for k in range(dims- 1):\n",
    "        circuit.append(CModAdd(k+1,k+1,dims).on(qids[0],qids[1]))\n",
    "    circuit.append(cirq.measure(*qids,key='a'))\n",
    "    return circuit\n",
    "ideal_ghz = ideal_ghz(2)\n"
   ]
  },
  {
   "cell_type": "code",
   "execution_count": 51,
   "id": "8a0018c5",
   "metadata": {},
   "outputs": [
    {
     "name": "stdout",
     "output_type": "stream",
     "text": [
      "0 (d=2): ───Cr───(1)───D2(0.12)───M('a')───\n",
      "                 │                │\n",
      "1 (d=2): ────────[+]───D2(0.12)───M────────\n"
     ]
    }
   ],
   "source": [
    "def noisy_ghz(dims: int,n_qudits: int = 2) -> cirq.Circuit:\n",
    "    qids = cirq.LineQid.range(n_qudits, dimension=dims)\n",
    "    circuit = cirq.Circuit()\n",
    "    circuit.append(Christensen(dim=dims).on(qids[0]))\n",
    "    \n",
    "    for k in range(dims- 1):\n",
    "        circuit.append(CModAdd(k+1,k+1,dims).on(qids[0],qids[1]))\n",
    "    circuit.append(cirq.Moment(QuditDepolarizingChannel(0.12,dims).on_each(qids[0],qids[1])))\n",
    "    circuit.append(cirq.measure(*qids,key='a'))\n",
    "    return circuit\n",
    "noisy_ghz = noisy_ghz(2)\n",
    "print(noisy_ghz)"
   ]
  },
  {
   "cell_type": "code",
   "execution_count": 52,
   "id": "b91d9316",
   "metadata": {},
   "outputs": [
    {
     "data": {
      "image/png": "[encoded data removed]",
      "text/plain": [
       "<Figure size 640x480 with 1 Axes>"
      ]
     },
     "metadata": {},
     "output_type": "display_data"
    },
    {
     "data": {
      "image/png": "[encoded data removed]",
      "text/plain": [
       "<Figure size 640x480 with 1 Axes>"
      ]
     },
     "metadata": {},
     "output_type": "display_data"
    },
    {
     "data": {
      "image/png": "[encoded data removed]",
      "text/plain": [
       "<Figure size 640x480 with 1 Axes>"
      ]
     },
     "metadata": {},
     "output_type": "display_data"
    }
   ],
   "source": [
    "sim = cirq.Simulator()\n",
    "pcs_ideal_ghz_result = sim.run(pcs_ideal_ghz,repetitions=1000)\n",
    "pcs_ideal_ghz_counts = get_counts(pcs_ideal_ghz_result,key='a')\n",
    "plot_histogram(pcs_ideal_ghz_counts)\n",
    "\n",
    "\n",
    "ideal_ghz_result = sim.run(ideal_ghz,repetitions=1000)\n",
    "ideal_ghz_counts = get_counts(ideal_ghz_result,key='a')\n",
    "plot_histogram(ideal_ghz_counts)\n",
    "\n",
    "noisy_ghz_result = sim.run(noisy_ghz,repetitions=1000)\n",
    "noisy_ghz_counts = get_counts(noisy_ghz_result,key='a')\n",
    "plot_histogram(noisy_ghz_counts)"
   ]
  },
  {
   "cell_type": "code",
   "execution_count": 53,
   "id": "cc3d5531",
   "metadata": {},
   "outputs": [
    {
     "name": "stdout",
     "output_type": "stream",
     "text": [
      "Unmitigated Fidelity: 0.8319987785560338\n",
      "Mitigated Fidelity: 0.9632461400088832\n"
     ]
    }
   ],
   "source": [
    "#noisy fidelity\n",
    "unmitigated_fid = hellinger_fidelity(ideal_ghz_counts,noisy_ghz_counts)\n",
    "mitigated_fid = hellinger_fidelity(pcs_ideal_ghz_counts,post_selected_pcs)\n",
    "print(\"Unmitigated Fidelity:\", unmitigated_fid)\n",
    "print(\"Mitigated Fidelity:\", mitigated_fid)"
   ]
  },
  {
   "cell_type": "code",
   "execution_count": null,
   "id": "c9041c83",
   "metadata": {},
   "outputs": [],
   "source": [
    "c = cirq.Circuit()\n",
    "qid = cirq.LineQid.range(2, dimension=5)\n",
    "c.append(CModAdd())"
   ]
  }
 ],
 "metadata": {
  "kernelspec": {
   "display_name": "cirq-env",
   "language": "python",
   "name": "python3"
  },
  "language_info": {
   "codemirror_mode": {
    "name": "ipython",
    "version": 3
   },
   "file_extension": ".py",
   "mimetype": "text/x-python",
   "name": "python",
   "nbconvert_exporter": "python",
   "pygments_lexer": "ipython3",
   "version": "3.13.5"
  }
 },
 "nbformat": 4,
 "nbformat_minor": 5
}
